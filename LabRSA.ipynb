{
  "nbformat": 4,
  "nbformat_minor": 0,
  "metadata": {
    "colab": {
      "name": "LabRSA.ipynb",
      "provenance": [],
      "include_colab_link": true
    },
    "kernelspec": {
      "name": "python3",
      "display_name": "Python 3"
    },
    "accelerator": "GPU"
  },
  "cells": [
    {
      "cell_type": "markdown",
      "metadata": {
        "id": "view-in-github",
        "colab_type": "text"
      },
      "source": [
        "<a href=\"https://colab.research.google.com/github/Fredestroyer007/LaboratoireRSA_BdeB2019/blob/master/LabRSA.ipynb\" target=\"_parent\"><img src=\"https://colab.research.google.com/assets/colab-badge.svg\" alt=\"Open In Colab\"/></a>"
      ]
    },
    {
      "cell_type": "markdown",
      "metadata": {
        "id": "n_eS3YMfSvJt",
        "colab_type": "text"
      },
      "source": [
        "#Partie 1 - Générez les nombres premiers p et q"
      ]
    },
    {
      "cell_type": "markdown",
      "metadata": {
        "id": "1wAiDflsS4kY",
        "colab_type": "text"
      },
      "source": [
        "Générez un nombre aléatoire de 80 chiffres (264 bit) en utilisant une implémentation de Miller-Rabin par [Antoine Prudhomme](https://medium.com/@prudywsh/how-to-generate-big-prime-numbers-miller-rabin-49e6e6af32fb)"
      ]
    },
    {
      "cell_type": "markdown",
      "metadata": {
        "id": "UOBHFKvQldFG",
        "colab_type": "text"
      },
      "source": [
        "Définir la longueur en bits du nombre premier. Veuillez définir la variable longueurDecimale"
      ]
    },
    {
      "cell_type": "code",
      "metadata": {
        "id": "O-3JAp2Tliki",
        "colab_type": "code",
        "outputId": "7fcee8bc-a41d-4ca0-b6eb-a966c89677c7",
        "colab": {
          "base_uri": "https://localhost:8080/",
          "height": 36
        }
      },
      "source": [
        "import math\n",
        "longueurDecimale = 80\n",
        "length = math.floor(longueurDecimale * math.log(10, 2))\n",
        "print(\"La longueur en bits de \" + str(longueurDecimale) + \" places décimales est de \" + str(length) + \" bits.\")"
      ],
      "execution_count": 0,
      "outputs": [
        {
          "output_type": "stream",
          "text": [
            "La longueur en bits de 80 places décimales est de 265 bits.\n"
          ],
          "name": "stdout"
        }
      ]
    },
    {
      "cell_type": "markdown",
      "metadata": {
        "id": "-edKXlGUsSpz",
        "colab_type": "text"
      },
      "source": [
        "Importer la librairie random et obtient une valeur de seed à partir du temps actuel"
      ]
    },
    {
      "cell_type": "code",
      "metadata": {
        "id": "AgCySvBLYPlu",
        "colab_type": "code",
        "colab": {}
      },
      "source": [
        "import random\n",
        "from datetime import datetime\n",
        "random.seed(datetime.now())"
      ],
      "execution_count": 0,
      "outputs": []
    },
    {
      "cell_type": "markdown",
      "metadata": {
        "id": "KGeAbrc1b61-",
        "colab_type": "text"
      },
      "source": [
        "\n",
        "Fonction pour vérifier la primalité d'un nombre\n"
      ]
    },
    {
      "cell_type": "code",
      "metadata": {
        "id": "Sd8pNksyYS4P",
        "colab_type": "code",
        "colab": {}
      },
      "source": [
        "def est_prime(n, k=128):\n",
        "    # test si le nombre est impair ou si = 2\n",
        "    if n == 2 or n == 3:\n",
        "        return True\n",
        "    if n <= 1 or n % 2 == 0:\n",
        "        return False\n",
        "    # trouve r et s\n",
        "    s = 0\n",
        "    r = n - 1\n",
        "    while r & 1 == 0:\n",
        "        s += 1\n",
        "        r //= 2\n",
        "    # fait k nombre de tests\n",
        "    for _ in range(k):\n",
        "        a = randrange(2, n - 1)\n",
        "        x = pow(a, r, n)\n",
        "        if x != 1 and x != n - 1:\n",
        "            j = 1\n",
        "            while j < s and x != n - 1:\n",
        "                x = pow(x, 2, n)\n",
        "                if x == 1:\n",
        "                    return False\n",
        "                j += 1\n",
        "            if x != n - 1:\n",
        "                return False\n",
        "    return True"
      ],
      "execution_count": 0,
      "outputs": []
    },
    {
      "cell_type": "markdown",
      "metadata": {
        "id": "BLfpLf_EkosV",
        "colab_type": "text"
      },
      "source": [
        "Fonction pour générer un candidat de nombre premier"
      ]
    },
    {
      "cell_type": "code",
      "metadata": {
        "id": "D14lE775YZlz",
        "colab_type": "code",
        "colab": {}
      },
      "source": [
        "def générateur_candidat_prime():\n",
        "    # génére un nombre de bit random\n",
        "    p = getrandbits(length)\n",
        "    # applique un masque pour mettre les valeurs de MSB et LSB à 1\n",
        "    p |= (1 << length - 1) | 1\n",
        "    return p"
      ],
      "execution_count": 0,
      "outputs": []
    },
    {
      "cell_type": "markdown",
      "metadata": {
        "id": "jvc9OVmelH9e",
        "colab_type": "text"
      },
      "source": [
        "Fonction pour générer un nombre premier"
      ]
    },
    {
      "cell_type": "code",
      "metadata": {
        "id": "3hqNzAimYel5",
        "colab_type": "code",
        "colab": {}
      },
      "source": [
        "def génère_nombre_premier():\n",
        "    p=4\n",
        "    # continue de généré tant que le tests de primalité Miller-Rabin échoue\n",
        "    while not est_prime(p, 128):\n",
        "      p = générateur_candidat_prime()\n",
        "    return p"
      ],
      "execution_count": 0,
      "outputs": []
    },
    {
      "cell_type": "markdown",
      "metadata": {
        "id": "Nk1K27iXs_mm",
        "colab_type": "text"
      },
      "source": [
        "Génération de p"
      ]
    },
    {
      "cell_type": "code",
      "metadata": {
        "id": "FS97nKv8Ylr5",
        "colab_type": "code",
        "outputId": "d07bd703-40c9-4535-e30b-6e2d46851507",
        "colab": {
          "base_uri": "https://localhost:8080/",
          "height": 55
        }
      },
      "source": [
        "p = génère_nombre_premier()\n",
        "print(\"La valeur de est de \" + str(p))\n",
        "if len(str(p)) == 80:\n",
        "  print(\"P est bien d'une longueur de \" + str(length) + \" bits.\")\n",
        "else:\n",
        "  print(\"P n'est pas d'une longueur de \" + str(length) + \" bits.\")"
      ],
      "execution_count": 0,
      "outputs": [
        {
          "output_type": "stream",
          "text": [
            "La valeur de est de 30818961476094312452169761604140043491770827720344802559477120424284837962519433\n",
            "P est bien d'une longueur de 265 bits.\n"
          ],
          "name": "stdout"
        }
      ]
    },
    {
      "cell_type": "markdown",
      "metadata": {
        "id": "KOao-c14tlyN",
        "colab_type": "text"
      },
      "source": [
        "Génération de q"
      ]
    },
    {
      "cell_type": "code",
      "metadata": {
        "id": "idhU0Sarpu3E",
        "colab_type": "code",
        "outputId": "68c79f79-1454-44ff-afa0-c8850f64217c",
        "colab": {
          "base_uri": "https://localhost:8080/",
          "height": 55
        }
      },
      "source": [
        "q = génère_nombre_premier()\n",
        "print(\"La valeur de q est de \" + str(q))\n",
        "if len(str(q)) == 80:\n",
        "  print(\"Q est bien d'une longueur de \" + str(length) + \" bits.\")\n",
        "else:\n",
        "  print(\"Q n'est pas d'une longueur de \" + str(length) + \" bits.\")"
      ],
      "execution_count": 0,
      "outputs": [
        {
          "output_type": "stream",
          "text": [
            "La valeur de q est de 50255355330255333182247505494124838309778306744476881193394149544129342260989049\n",
            "Q est bien d'une longueur de 265 bits.\n"
          ],
          "name": "stdout"
        }
      ]
    },
    {
      "cell_type": "markdown",
      "metadata": {
        "id": "0oJ-w-rWv8Lv",
        "colab_type": "text"
      },
      "source": [
        "Calcul de n"
      ]
    },
    {
      "cell_type": "code",
      "metadata": {
        "id": "Nz-JNb-ptzDs",
        "colab_type": "code",
        "outputId": "cc4ac513-5faf-41e8-ec3b-47e26357a534",
        "colab": {
          "base_uri": "https://localhost:8080/",
          "height": 56
        }
      },
      "source": [
        "n = p*q\n",
        "print(\"La valeur de n est de \" + str(n))"
      ],
      "execution_count": 0,
      "outputs": [
        {
          "output_type": "stream",
          "text": [
            "La valeur de n est de 1548817859890570076383089438916518491849026371375872970620486863789142149943046296435400430623039605835692266389172940656274925704381938912413105460130462689217\n"
          ],
          "name": "stdout"
        }
      ]
    },
    {
      "cell_type": "markdown",
      "metadata": {
        "id": "kMHyinucwmy4",
        "colab_type": "text"
      },
      "source": [
        "Fonction pour la génération de e. Pour avoir assez de padding, e doit être plus grand que 0.29*n, donc n/3 et il doit être plus petit que (p-1)(q-1). En plus, il doit être premier avec (p-1)(q-1)"
      ]
    },
    {
      "cell_type": "code",
      "metadata": {
        "id": "n7HF1hyWv-PT",
        "colab_type": "code",
        "colab": {}
      },
      "source": [
        "def génère_nombre_premier_e():\n",
        "    e = 4\n",
        "    # continue de généré tant que le tests de primalité Miller-Rabin échoue\n",
        "    while not est_prime(e, 128):\n",
        "      e = random.randrange((n/3), ((p-1)*(q-1)), 1)\n",
        "    return e"
      ],
      "execution_count": 0,
      "outputs": []
    },
    {
      "cell_type": "markdown",
      "metadata": {
        "id": "QkZ6T2Zt5qVu",
        "colab_type": "text"
      },
      "source": [
        "Génération de e"
      ]
    },
    {
      "cell_type": "code",
      "metadata": {
        "id": "ClIi7H0X3HDa",
        "colab_type": "code",
        "outputId": "1bb48aaf-beba-4bd9-da19-84cf46b7db77",
        "colab": {
          "base_uri": "https://localhost:8080/",
          "height": 56
        }
      },
      "source": [
        "e = génère_nombre_premier_e()\n",
        "print(\"La valeur de e est de \" + str(e))"
      ],
      "execution_count": 0,
      "outputs": [
        {
          "output_type": "stream",
          "text": [
            "La valeur de e est de 1280171176725476194549116953087672308700239372512201897096528908244774384454444057864278631903671276803581548769172047231884901206722511389877098959088124307639\n"
          ],
          "name": "stdout"
        }
      ]
    },
    {
      "cell_type": "markdown",
      "metadata": {
        "id": "LmO33s6Y7t3a",
        "colab_type": "text"
      },
      "source": [
        "Importer GMPY"
      ]
    },
    {
      "cell_type": "code",
      "metadata": {
        "id": "NefPcDtW50sN",
        "colab_type": "code",
        "outputId": "22849d11-e6e1-4d4c-f7e6-bb5c671571f2",
        "colab": {
          "base_uri": "https://localhost:8080/",
          "height": 171
        }
      },
      "source": [
        "!apt-get install libgmp-dev libmpfr-dev libmpc-dev\n",
        "!pip install gmpy\n",
        "import gmpy"
      ],
      "execution_count": 0,
      "outputs": [
        {
          "output_type": "stream",
          "text": [
            "Reading package lists... Done\n",
            "Building dependency tree       \n",
            "Reading state information... Done\n",
            "libgmp-dev is already the newest version (2:6.1.2+dfsg-2).\n",
            "libmpc-dev is already the newest version (1.1.0-1).\n",
            "libmpfr-dev is already the newest version (4.0.1-1).\n",
            "0 upgraded, 0 newly installed, 0 to remove and 28 not upgraded.\n",
            "Requirement already satisfied: gmpy in /usr/local/lib/python3.6/dist-packages (1.17)\n"
          ],
          "name": "stdout"
        }
      ]
    },
    {
      "cell_type": "markdown",
      "metadata": {
        "id": "VphFs0se7wQN",
        "colab_type": "text"
      },
      "source": [
        "Calculer d"
      ]
    },
    {
      "cell_type": "code",
      "metadata": {
        "id": "vTy2Npqf7C45",
        "colab_type": "code",
        "outputId": "076b74f2-0494-419c-daa7-e6f2b20be82b",
        "colab": {
          "base_uri": "https://localhost:8080/",
          "height": 56
        }
      },
      "source": [
        "d = gmpy.invert(e, ((p-1)*(q-1)))\n",
        "print(\"La valeur de d est de \" + str(d))"
      ],
      "execution_count": 0,
      "outputs": [
        {
          "output_type": "stream",
          "text": [
            "La valeur de d est de 67521876078129857215665612129083619681547566812355092602551852448117002954391926936771593528927385047760678976329194934517167065451525123193405662078534412999\n"
          ],
          "name": "stdout"
        }
      ]
    },
    {
      "cell_type": "markdown",
      "metadata": {
        "id": "PchnXX_t8EoS",
        "colab_type": "text"
      },
      "source": [
        "Résumé"
      ]
    },
    {
      "cell_type": "code",
      "metadata": {
        "id": "Msj08OB_77fR",
        "colab_type": "code",
        "outputId": "446e4419-2808-44d3-b3c9-900971f5c170",
        "colab": {
          "base_uri": "https://localhost:8080/",
          "height": 133
        }
      },
      "source": [
        "print(\"La valeur de p est de \" + str(p))\n",
        "print(\"La valeur de q est de \" + str(q))\n",
        "print(\"La valeur de n est de \" + str(n))\n",
        "print(\"La valeur de e est de \" + str(e))\n",
        "print(\"La valeur de d est de \" + str(d))"
      ],
      "execution_count": 0,
      "outputs": [
        {
          "output_type": "stream",
          "text": [
            "La valeur de p est de 30818961476094312452169761604140043491770827720344802559477120424284837962519433\n",
            "La valeur de q est de 50255355330255333182247505494124838309778306744476881193394149544129342260989049\n",
            "La valeur de n est de 1548817859890570076383089438916518491849026371375872970620486863789142149943046296435400430623039605835692266389172940656274925704381938912413105460130462689217\n",
            "La valeur de e est de 1280171176725476194549116953087672308700239372512201897096528908244774384454444057864278631903671276803581548769172047231884901206722511389877098959088124307639\n",
            "La valeur de d est de 67521876078129857215665612129083619681547566812355092602551852448117002954391926936771593528927385047760678976329194934517167065451525123193405662078534412999\n"
          ],
          "name": "stdout"
        }
      ]
    },
    {
      "cell_type": "markdown",
      "metadata": {
        "id": "G_6djA769QwD",
        "colab_type": "text"
      },
      "source": [
        "#Partie 2 - Chiffrez un message adressé à votre professeur"
      ]
    },
    {
      "cell_type": "markdown",
      "metadata": {
        "id": "tNJK1yFY_hfi",
        "colab_type": "text"
      },
      "source": [
        "Assignation des valeurs du professeur"
      ]
    },
    {
      "cell_type": "code",
      "metadata": {
        "id": "JARTgmx0_X8Y",
        "colab_type": "code",
        "colab": {}
      },
      "source": [
        "nDaniel = 941875107642985537713397989234478756209894071847347045505422763695411697005878446626501981832582375451645878970522357469006766777322171449474239317932678049003\n",
        "eDaniel = 122684623944563567014629102476621268301354767735929461384308114159479590358864213279399243377436692534646191467257250225408651662317109322792327354727159625659"
      ],
      "execution_count": 0,
      "outputs": []
    },
    {
      "cell_type": "markdown",
      "metadata": {
        "id": "Wc4h2pOdAkrO",
        "colab_type": "text"
      },
      "source": [
        "Assignez à la variable motdepasse1 un nombre aléatoire de 15 chiffres"
      ]
    },
    {
      "cell_type": "code",
      "metadata": {
        "id": "b0eopr2rBRoi",
        "colab_type": "code",
        "outputId": "cad61814-638d-48ea-a943-84a438560860",
        "colab": {
          "base_uri": "https://localhost:8080/",
          "height": 55
        }
      },
      "source": [
        "motdepasse1 = getrandbits(math.floor(15 * math.log(10, 2)))\n",
        "print(\"La valeur de motdepasse1 est de \" + str(motdepasse1))\n",
        "if len(str(motdepasse1)) == 15:\n",
        "  print(\"motdepasse1 est bien d'une longueur de \" + str(15) + \".\")\n",
        "else:\n",
        "  print(\"motdepasse1 n'est pas d'une longueur de \" + str(15) + \".\")"
      ],
      "execution_count": 0,
      "outputs": [
        {
          "output_type": "stream",
          "text": [
            "La valeur de motdepasse1 est de 200110348519518\n",
            "motdepasse1 est bien d'une longueur de 15.\n"
          ],
          "name": "stdout"
        }
      ]
    },
    {
      "cell_type": "markdown",
      "metadata": {
        "id": "DTX_wZZZCoyD",
        "colab_type": "text"
      },
      "source": [
        "Encryption de motdepasse1 : c = m**e mod n"
      ]
    },
    {
      "cell_type": "code",
      "metadata": {
        "id": "bpvqOw5bORJ-",
        "colab_type": "code",
        "colab": {}
      },
      "source": [
        "motdepasse1code = pow(motdepasse1,eDaniel, nDaniel)"
      ],
      "execution_count": 0,
      "outputs": []
    }
  ]
}