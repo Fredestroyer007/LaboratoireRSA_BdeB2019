{
  "nbformat": 4,
  "nbformat_minor": 0,
  "metadata": {
    "colab": {
      "name": "LabRSA.ipynb",
      "provenance": [],
      "include_colab_link": true
    },
    "kernelspec": {
      "name": "python3",
      "display_name": "Python 3"
    }
  },
  "cells": [
    {
      "cell_type": "markdown",
      "metadata": {
        "id": "view-in-github",
        "colab_type": "text"
      },
      "source": [
        "<a href=\"https://colab.research.google.com/github/Fredestroyer007/LaboratoireRSA_BdeB2019/blob/master/LabRSA.ipynb\" target=\"_parent\"><img src=\"https://colab.research.google.com/assets/colab-badge.svg\" alt=\"Open In Colab\"/></a>"
      ]
    },
    {
      "cell_type": "markdown",
      "metadata": {
        "id": "PtfYYBmFmFBK",
        "colab_type": "text"
      },
      "source": [
        "Notebook Colab pour le laboratoire sur l'encryption RSA pour le cours de Mathématiques discrètes au Collège de Bois-de-Boulogne à la session d'automne 2019."
      ]
    },
    {
      "cell_type": "markdown",
      "metadata": {
        "id": "n_eS3YMfSvJt",
        "colab_type": "text"
      },
      "source": [
        "#Partie 1 - Générez les nombres premiers p et q"
      ]
    },
    {
      "cell_type": "markdown",
      "metadata": {
        "id": "1wAiDflsS4kY",
        "colab_type": "text"
      },
      "source": [
        "Générez un nombre aléatoire de 80 chiffres (264 bit) en utilisant une implémentation de Miller-Rabin par [Antoine Prudhomme](https://medium.com/@prudywsh/how-to-generate-big-prime-numbers-miller-rabin-49e6e6af32fb)"
      ]
    },
    {
      "cell_type": "markdown",
      "metadata": {
        "id": "UOBHFKvQldFG",
        "colab_type": "text"
      },
      "source": [
        "Définir la longueur en bits du nombre premier. Veuillez définir la variable longueurDecimale"
      ]
    },
    {
      "cell_type": "code",
      "metadata": {
        "id": "O-3JAp2Tliki",
        "colab_type": "code",
        "outputId": "5afe1576-ca34-44c1-b5ad-4b252377ed10",
        "colab": {
          "base_uri": "https://localhost:8080/",
          "height": 36
        }
      },
      "source": [
        "import math\n",
        "longueurDecimale = 80\n",
        "length = math.floor(longueurDecimale * math.log(10, 2))\n",
        "print(\"La longueur en bits de \" + str(longueurDecimale) + \" places décimales est de \" + str(length) + \" bits.\")"
      ],
      "execution_count": 1,
      "outputs": [
        {
          "output_type": "stream",
          "text": [
            "La longueur en bits de 80 places décimales est de 265 bits.\n"
          ],
          "name": "stdout"
        }
      ]
    },
    {
      "cell_type": "markdown",
      "metadata": {
        "id": "-edKXlGUsSpz",
        "colab_type": "text"
      },
      "source": [
        "Importer la librairie random et obtient une valeur de seed à partir du temps actuel"
      ]
    },
    {
      "cell_type": "code",
      "metadata": {
        "id": "AgCySvBLYPlu",
        "colab_type": "code",
        "colab": {}
      },
      "source": [
        "import random\n",
        "from datetime import datetime\n",
        "random.seed(datetime.now())"
      ],
      "execution_count": 0,
      "outputs": []
    },
    {
      "cell_type": "markdown",
      "metadata": {
        "id": "KGeAbrc1b61-",
        "colab_type": "text"
      },
      "source": [
        "\n",
        "Fonction pour vérifier la primalité d'un nombre\n"
      ]
    },
    {
      "cell_type": "code",
      "metadata": {
        "id": "Sd8pNksyYS4P",
        "colab_type": "code",
        "colab": {}
      },
      "source": [
        "def est_prime(n, k=128):\n",
        "    # test si le nombre est impair ou si = 2\n",
        "    if n == 2 or n == 3:\n",
        "        return True\n",
        "    if n <= 1 or n % 2 == 0:\n",
        "        return False\n",
        "    # trouve r et s\n",
        "    s = 0\n",
        "    r = n - 1\n",
        "    while r & 1 == 0:\n",
        "        s += 1\n",
        "        r //= 2\n",
        "    # fait k nombre de tests\n",
        "    for _ in range(k):\n",
        "        a = random.randrange(2, n - 1)\n",
        "        x = pow(a, r, n)\n",
        "        if x != 1 and x != n - 1:\n",
        "            j = 1\n",
        "            while j < s and x != n - 1:\n",
        "                x = pow(x, 2, n)\n",
        "                if x == 1:\n",
        "                    return False\n",
        "                j += 1\n",
        "            if x != n - 1:\n",
        "                return False\n",
        "    return True"
      ],
      "execution_count": 0,
      "outputs": []
    },
    {
      "cell_type": "markdown",
      "metadata": {
        "id": "BLfpLf_EkosV",
        "colab_type": "text"
      },
      "source": [
        "Fonction pour générer un candidat de nombre premier"
      ]
    },
    {
      "cell_type": "code",
      "metadata": {
        "id": "D14lE775YZlz",
        "colab_type": "code",
        "colab": {}
      },
      "source": [
        "def générateur_candidat_prime():\n",
        "    # génére un nombre de bit random\n",
        "    p = random.getrandbits(length)\n",
        "    # applique un masque pour mettre les valeurs de MSB et LSB à 1\n",
        "    p |= (1 << length - 1) | 1\n",
        "    return p"
      ],
      "execution_count": 0,
      "outputs": []
    },
    {
      "cell_type": "markdown",
      "metadata": {
        "id": "jvc9OVmelH9e",
        "colab_type": "text"
      },
      "source": [
        "Fonction pour générer un nombre premier"
      ]
    },
    {
      "cell_type": "code",
      "metadata": {
        "id": "3hqNzAimYel5",
        "colab_type": "code",
        "colab": {}
      },
      "source": [
        "def génère_nombre_premier():\n",
        "    p=4\n",
        "    # continue de généré tant que le tests de primalité Miller-Rabin échoue\n",
        "    while not est_prime(p, 128):\n",
        "      p = générateur_candidat_prime()\n",
        "    return p"
      ],
      "execution_count": 0,
      "outputs": []
    },
    {
      "cell_type": "markdown",
      "metadata": {
        "id": "Nk1K27iXs_mm",
        "colab_type": "text"
      },
      "source": [
        "Génération de p"
      ]
    },
    {
      "cell_type": "code",
      "metadata": {
        "id": "FS97nKv8Ylr5",
        "colab_type": "code",
        "outputId": "bd6de003-bc97-4ab0-e012-62eb572d995f",
        "colab": {
          "base_uri": "https://localhost:8080/",
          "height": 55
        }
      },
      "source": [
        "p = génère_nombre_premier()\n",
        "print(\"La valeur de p est de \" + str(p))\n",
        "if len(str(p)) == 80:\n",
        "  print(\"P est bien d'une longueur de \" + str(length) + \" bits.\")\n",
        "else:\n",
        "  print(\"P n'est pas d'une longueur de \" + str(length) + \" bits.\")"
      ],
      "execution_count": 6,
      "outputs": [
        {
          "output_type": "stream",
          "text": [
            "La valeur de p est de 59191260093631580573769718212406665490158213807902306266101654582021753821729017\n",
            "P est bien d'une longueur de 265 bits.\n"
          ],
          "name": "stdout"
        }
      ]
    },
    {
      "cell_type": "markdown",
      "metadata": {
        "id": "KOao-c14tlyN",
        "colab_type": "text"
      },
      "source": [
        "Génération de q"
      ]
    },
    {
      "cell_type": "code",
      "metadata": {
        "id": "idhU0Sarpu3E",
        "colab_type": "code",
        "outputId": "5272a57e-2752-4d68-9e52-e72ba4e22eea",
        "colab": {
          "base_uri": "https://localhost:8080/",
          "height": 55
        }
      },
      "source": [
        "q = génère_nombre_premier()\n",
        "print(\"La valeur de q est de \" + str(q))\n",
        "if len(str(q)) == 80:\n",
        "  print(\"Q est bien d'une longueur de \" + str(length) + \" bits.\")\n",
        "else:\n",
        "  print(\"Q n'est pas d'une longueur de \" + str(length) + \" bits.\")"
      ],
      "execution_count": 7,
      "outputs": [
        {
          "output_type": "stream",
          "text": [
            "La valeur de q est de 47716315585295623925400199208060928344265115125441717781796198337012539024607557\n",
            "Q est bien d'une longueur de 265 bits.\n"
          ],
          "name": "stdout"
        }
      ]
    },
    {
      "cell_type": "markdown",
      "metadata": {
        "id": "bxdU4ZjPi6Zj",
        "colab_type": "text"
      },
      "source": [
        "Pour sauver p et q (décommenter)"
      ]
    },
    {
      "cell_type": "code",
      "metadata": {
        "id": "4y66sOn9i9TZ",
        "colab_type": "code",
        "colab": {}
      },
      "source": [
        "p = 43760779918583590449320889061674902560413008418686783689350882880659848489068049\n",
        "q = 57534797863844122194895955061365468945508527533400816579474601337298957718731759"
      ],
      "execution_count": 0,
      "outputs": []
    },
    {
      "cell_type": "markdown",
      "metadata": {
        "id": "0oJ-w-rWv8Lv",
        "colab_type": "text"
      },
      "source": [
        "Calcul de n"
      ]
    },
    {
      "cell_type": "code",
      "metadata": {
        "id": "Nz-JNb-ptzDs",
        "colab_type": "code",
        "outputId": "f6f99ac3-7125-4734-ef4c-71270730fa99",
        "colab": {
          "base_uri": "https://localhost:8080/",
          "height": 56
        }
      },
      "source": [
        "n = p*q\n",
        "print(\"La valeur de n est de \" + str(n))"
      ],
      "execution_count": 9,
      "outputs": [
        {
          "output_type": "stream",
          "text": [
            "La valeur de n est de 2517767626979875919365688311786746795624451011964239269294030061540639029125027258706018784204123854213574637152659976874409049826536544283767814946264128468191\n"
          ],
          "name": "stdout"
        }
      ]
    },
    {
      "cell_type": "markdown",
      "metadata": {
        "id": "kMHyinucwmy4",
        "colab_type": "text"
      },
      "source": [
        "Fonction pour la génération de e. Pour avoir assez de padding, e doit être plus grand que 0.29*n, donc n/3 et il doit être plus petit que (p-1)(q-1). En plus, il doit être premier avec (p-1)(q-1)"
      ]
    },
    {
      "cell_type": "code",
      "metadata": {
        "id": "n7HF1hyWv-PT",
        "colab_type": "code",
        "colab": {}
      },
      "source": [
        "def génère_nombre_premier_e():\n",
        "    e = 4\n",
        "    # continue de généré tant que le tests de primalité Miller-Rabin échoue\n",
        "    while not est_prime(e, 128):\n",
        "      e = random.randrange((n/3), ((p-1)*(q-1)), 1)\n",
        "    return e"
      ],
      "execution_count": 0,
      "outputs": []
    },
    {
      "cell_type": "markdown",
      "metadata": {
        "id": "QkZ6T2Zt5qVu",
        "colab_type": "text"
      },
      "source": [
        "Génération de e"
      ]
    },
    {
      "cell_type": "code",
      "metadata": {
        "id": "ClIi7H0X3HDa",
        "colab_type": "code",
        "outputId": "f192d49b-05e1-4a4e-f735-a67fa60c7d12",
        "colab": {
          "base_uri": "https://localhost:8080/",
          "height": 56
        }
      },
      "source": [
        "e = génère_nombre_premier_e()\n",
        "print(\"La valeur de e est de \" + str(e))"
      ],
      "execution_count": 11,
      "outputs": [
        {
          "output_type": "stream",
          "text": [
            "La valeur de e est de 1420087220350769205780263605949440633425293471522631273537473049666258630077113631539373024381405753333397518775278755489695308229670829275937627204634272049173\n"
          ],
          "name": "stdout"
        }
      ]
    },
    {
      "cell_type": "markdown",
      "metadata": {
        "id": "Oi3NxIkajTSU",
        "colab_type": "text"
      },
      "source": [
        "Sauver e (décommenter)"
      ]
    },
    {
      "cell_type": "code",
      "metadata": {
        "id": "B1NnYaxgjVtY",
        "colab_type": "code",
        "colab": {}
      },
      "source": [
        "e = 883683086524351873493868061648789687810521912343113976414513987467518848574111929668559811487751834241252833785280254919681236540658324998369794090270148508471"
      ],
      "execution_count": 0,
      "outputs": []
    },
    {
      "cell_type": "markdown",
      "metadata": {
        "id": "LmO33s6Y7t3a",
        "colab_type": "text"
      },
      "source": [
        "Importer GMPY"
      ]
    },
    {
      "cell_type": "code",
      "metadata": {
        "id": "NefPcDtW50sN",
        "colab_type": "code",
        "outputId": "2e768260-9d82-4add-bfd1-a56d5c6c23cf",
        "colab": {
          "base_uri": "https://localhost:8080/",
          "height": 901
        }
      },
      "source": [
        "!apt-get install libgmp-dev libmpfr-dev libmpc-dev\n",
        "!pip install gmpy\n",
        "import gmpy"
      ],
      "execution_count": 13,
      "outputs": [
        {
          "output_type": "stream",
          "text": [
            "Reading package lists... Done\n",
            "Building dependency tree       \n",
            "Reading state information... Done\n",
            "The following additional packages will be installed:\n",
            "  libgmpxx4ldbl\n",
            "Suggested packages:\n",
            "  gmp-doc libgmp10-doc libmpfr-doc\n",
            "The following NEW packages will be installed:\n",
            "  libgmp-dev libgmpxx4ldbl libmpc-dev libmpfr-dev\n",
            "0 upgraded, 4 newly installed, 0 to remove and 29 not upgraded.\n",
            "Need to get 625 kB of archives.\n",
            "After this operation, 3,178 kB of additional disk space will be used.\n",
            "Get:1 http://archive.ubuntu.com/ubuntu bionic/main amd64 libgmpxx4ldbl amd64 2:6.1.2+dfsg-2 [8,964 B]\n",
            "Get:2 http://archive.ubuntu.com/ubuntu bionic/main amd64 libgmp-dev amd64 2:6.1.2+dfsg-2 [316 kB]\n",
            "Get:3 http://archive.ubuntu.com/ubuntu bionic/main amd64 libmpfr-dev amd64 4.0.1-1 [249 kB]\n",
            "Get:4 http://archive.ubuntu.com/ubuntu bionic/main amd64 libmpc-dev amd64 1.1.0-1 [50.5 kB]\n",
            "Fetched 625 kB in 0s (3,022 kB/s)\n",
            "Selecting previously unselected package libgmpxx4ldbl:amd64.\n",
            "(Reading database ... 134923 files and directories currently installed.)\n",
            "Preparing to unpack .../libgmpxx4ldbl_2%3a6.1.2+dfsg-2_amd64.deb ...\n",
            "Unpacking libgmpxx4ldbl:amd64 (2:6.1.2+dfsg-2) ...\n",
            "Selecting previously unselected package libgmp-dev:amd64.\n",
            "Preparing to unpack .../libgmp-dev_2%3a6.1.2+dfsg-2_amd64.deb ...\n",
            "Unpacking libgmp-dev:amd64 (2:6.1.2+dfsg-2) ...\n",
            "Selecting previously unselected package libmpfr-dev:amd64.\n",
            "Preparing to unpack .../libmpfr-dev_4.0.1-1_amd64.deb ...\n",
            "Unpacking libmpfr-dev:amd64 (4.0.1-1) ...\n",
            "Selecting previously unselected package libmpc-dev:amd64.\n",
            "Preparing to unpack .../libmpc-dev_1.1.0-1_amd64.deb ...\n",
            "Unpacking libmpc-dev:amd64 (1.1.0-1) ...\n",
            "Processing triggers for libc-bin (2.27-3ubuntu1) ...\n",
            "Setting up libgmpxx4ldbl:amd64 (2:6.1.2+dfsg-2) ...\n",
            "Setting up libgmp-dev:amd64 (2:6.1.2+dfsg-2) ...\n",
            "Setting up libmpfr-dev:amd64 (4.0.1-1) ...\n",
            "Setting up libmpc-dev:amd64 (1.1.0-1) ...\n",
            "Processing triggers for libc-bin (2.27-3ubuntu1) ...\n",
            "Collecting gmpy\n",
            "\u001b[?25l  Downloading https://files.pythonhosted.org/packages/26/37/2184c13cee81e1dbeaebbb13570195247e73ab2138a3db0c9d2c5347e372/gmpy-1.17.zip (147kB)\n",
            "\u001b[K     |████████████████████████████████| 153kB 8.8MB/s \n",
            "\u001b[?25hBuilding wheels for collected packages: gmpy\n",
            "  Building wheel for gmpy (setup.py) ... \u001b[?25l\u001b[?25hdone\n",
            "  Created wheel for gmpy: filename=gmpy-1.17-cp36-cp36m-linux_x86_64.whl size=189913 sha256=28425d6a9fbaa24d4567bd2f9f49d8f04a50c404714044abea4aa2109f1ec738\n",
            "  Stored in directory: /root/.cache/pip/wheels/0e/71/61/afbbb4cae8a7a6d5230702197bd4cb8ae0a7f767df0e08f28f\n",
            "Successfully built gmpy\n",
            "Installing collected packages: gmpy\n",
            "Successfully installed gmpy-1.17\n"
          ],
          "name": "stdout"
        }
      ]
    },
    {
      "cell_type": "markdown",
      "metadata": {
        "id": "VphFs0se7wQN",
        "colab_type": "text"
      },
      "source": [
        "Calculer d"
      ]
    },
    {
      "cell_type": "code",
      "metadata": {
        "id": "vTy2Npqf7C45",
        "colab_type": "code",
        "outputId": "d9ff9e4f-063a-4612-d21e-e9367af4c1b8",
        "colab": {
          "base_uri": "https://localhost:8080/",
          "height": 56
        }
      },
      "source": [
        "d = gmpy.invert(e, ((p-1)*(q-1)))\n",
        "print(\"La valeur de d est de \" + str(d))"
      ],
      "execution_count": 14,
      "outputs": [
        {
          "output_type": "stream",
          "text": [
            "La valeur de d est de 1946554069897194451601410090837505987113705482836873750691772617306315333985440572223379547022270912582293479812377629109749702478558409242678875026763279899687\n"
          ],
          "name": "stdout"
        }
      ]
    },
    {
      "cell_type": "markdown",
      "metadata": {
        "id": "PchnXX_t8EoS",
        "colab_type": "text"
      },
      "source": [
        "Résumé"
      ]
    },
    {
      "cell_type": "code",
      "metadata": {
        "id": "Msj08OB_77fR",
        "colab_type": "code",
        "outputId": "1b00a4c5-73d2-4f70-cb26-cbde3999f756",
        "colab": {
          "base_uri": "https://localhost:8080/",
          "height": 133
        }
      },
      "source": [
        "print(\"La valeur de p est de \" + str(p))\n",
        "print(\"La valeur de q est de \" + str(q))\n",
        "print(\"La valeur de n est de \" + str(n))\n",
        "print(\"La valeur de e est de \" + str(e))\n",
        "print(\"La valeur de d est de \" + str(d))"
      ],
      "execution_count": 15,
      "outputs": [
        {
          "output_type": "stream",
          "text": [
            "La valeur de p est de 43760779918583590449320889061674902560413008418686783689350882880659848489068049\n",
            "La valeur de q est de 57534797863844122194895955061365468945508527533400816579474601337298957718731759\n",
            "La valeur de n est de 2517767626979875919365688311786746795624451011964239269294030061540639029125027258706018784204123854213574637152659976874409049826536544283767814946264128468191\n",
            "La valeur de e est de 883683086524351873493868061648789687810521912343113976414513987467518848574111929668559811487751834241252833785280254919681236540658324998369794090270148508471\n",
            "La valeur de d est de 1946554069897194451601410090837505987113705482836873750691772617306315333985440572223379547022270912582293479812377629109749702478558409242678875026763279899687\n"
          ],
          "name": "stdout"
        }
      ]
    },
    {
      "cell_type": "markdown",
      "metadata": {
        "id": "G_6djA769QwD",
        "colab_type": "text"
      },
      "source": [
        "#Partie 2 - Chiffrez un message adressé à votre professeur"
      ]
    },
    {
      "cell_type": "markdown",
      "metadata": {
        "id": "tNJK1yFY_hfi",
        "colab_type": "text"
      },
      "source": [
        "Assignation des valeurs du professeur"
      ]
    },
    {
      "cell_type": "code",
      "metadata": {
        "id": "JARTgmx0_X8Y",
        "colab_type": "code",
        "colab": {}
      },
      "source": [
        "nDaniel = 941875107642985537713397989234478756209894071847347045505422763695411697005878446626501981832582375451645878970522357469006766777322171449474239317932678049003\n",
        "eDaniel = 122684623944563567014629102476621268301354767735929461384308114159479590358864213279399243377436692534646191467257250225408651662317109322792327354727159625659"
      ],
      "execution_count": 0,
      "outputs": []
    },
    {
      "cell_type": "markdown",
      "metadata": {
        "id": "Wc4h2pOdAkrO",
        "colab_type": "text"
      },
      "source": [
        "Assignez à la variable motdepasse1 un nombre aléatoire de 15 chiffres"
      ]
    },
    {
      "cell_type": "code",
      "metadata": {
        "id": "b0eopr2rBRoi",
        "colab_type": "code",
        "outputId": "98ab921f-506b-4941-d873-fbcc038dcbdd",
        "colab": {
          "base_uri": "https://localhost:8080/",
          "height": 55
        }
      },
      "source": [
        "motdepasse1 = random.getrandbits(math.floor(15 * math.log(10, 2)))\n",
        "print(\"La valeur de motdepasse1 est de \" + str(motdepasse1))\n",
        "if len(str(motdepasse1)) == 15:\n",
        "  print(\"motdepasse1 est bien d'une longueur de \" + str(15) + \".\")\n",
        "else:\n",
        "  print(\"motdepasse1 n'est pas d'une longueur de \" + str(15) + \".\")"
      ],
      "execution_count": 17,
      "outputs": [
        {
          "output_type": "stream",
          "text": [
            "La valeur de motdepasse1 est de 472992385796060\n",
            "motdepasse1 est bien d'une longueur de 15.\n"
          ],
          "name": "stdout"
        }
      ]
    },
    {
      "cell_type": "markdown",
      "metadata": {
        "id": "_hUv-T1JSkzf",
        "colab_type": "text"
      },
      "source": [
        "Sauver motdepasse1 (décommenter)"
      ]
    },
    {
      "cell_type": "code",
      "metadata": {
        "id": "mU-jTnPQSmmK",
        "colab_type": "code",
        "colab": {}
      },
      "source": [
        "motdepasse1 = 245005117615426"
      ],
      "execution_count": 0,
      "outputs": []
    },
    {
      "cell_type": "markdown",
      "metadata": {
        "id": "DTX_wZZZCoyD",
        "colab_type": "text"
      },
      "source": [
        "Encryption de motdepasse1 à motdepasse1code : c = m**e mod n"
      ]
    },
    {
      "cell_type": "code",
      "metadata": {
        "id": "bpvqOw5bORJ-",
        "colab_type": "code",
        "outputId": "8d3e4a6a-08e6-4cd5-faea-7a9aee6ad4f3",
        "colab": {
          "base_uri": "https://localhost:8080/",
          "height": 56
        }
      },
      "source": [
        "motdepasse1code = pow(motdepasse1,eDaniel, nDaniel)\n",
        "print(\"La valeur encrypté de motdepasse1, nommé motdepasse1code, est \" + str(motdepasse1code))"
      ],
      "execution_count": 19,
      "outputs": [
        {
          "output_type": "stream",
          "text": [
            "La valeur encrypté de motdepasse1, nommé motdepasse1code, est 722881783830324966832598588065301698591164460467773812752147144538225117521305912419813269714025658539581438095223142928205616087296244054268494404888774943083\n"
          ],
          "name": "stdout"
        }
      ]
    },
    {
      "cell_type": "markdown",
      "metadata": {
        "id": "YH8e2j-rhASJ",
        "colab_type": "text"
      },
      "source": [
        "Encryption de motdepasse1code à signature avec n et d"
      ]
    },
    {
      "cell_type": "code",
      "metadata": {
        "id": "LwJ5QkLpg46m",
        "colab_type": "code",
        "outputId": "086caff7-992e-4cac-ed59-a4bdca7ccd79",
        "colab": {
          "base_uri": "https://localhost:8080/",
          "height": 56
        }
      },
      "source": [
        "signature = pow(motdepasse1code,e,n)\n",
        "print(\"La valeur encrypté de motdepasse1code, nommé signature, est \" + str(signature))"
      ],
      "execution_count": 20,
      "outputs": [
        {
          "output_type": "stream",
          "text": [
            "La valeur encrypté de motdepasse1code, nommé signature, est 2440121508375590461356735579542220434555967282604460387906827405671242777409137742694640959726751327975199737567001711559669264951682235830290901726203036378633\n"
          ],
          "name": "stdout"
        }
      ]
    },
    {
      "cell_type": "markdown",
      "metadata": {
        "id": "bWsJTI7QiJkP",
        "colab_type": "text"
      },
      "source": [
        "#Partie 3 - Déchiffrez la réponse donnée par votre professeur"
      ]
    },
    {
      "cell_type": "markdown",
      "metadata": {
        "id": "jzLGXrsUk6lb",
        "colab_type": "text"
      },
      "source": [
        "Remplir avec les réponses du professeur sur le forum"
      ]
    },
    {
      "cell_type": "code",
      "metadata": {
        "id": "OdTRUR3mk2RT",
        "colab_type": "code",
        "colab": {}
      },
      "source": [
        "réponse1 = 880791234050410562305519919255723487728632098143168376062269534865135228342413586521784311398618444471468843944142710283496695043151788129362132087004997170586\n",
        "réponse2 = 267765425098619780052610896995965093878163801917166163157127229704771029225785108349546265492203064192500532215375491254707149132491853708360069698817290774612"
      ],
      "execution_count": 0,
      "outputs": []
    },
    {
      "cell_type": "markdown",
      "metadata": {
        "id": "ZfeSqB1bk_Wy",
        "colab_type": "text"
      },
      "source": [
        "Décryption des messages"
      ]
    },
    {
      "cell_type": "code",
      "metadata": {
        "id": "UWAs_SoUkeDF",
        "colab_type": "code",
        "outputId": "dfcee74d-77b4-4d1a-9a32-c7757fca50fd",
        "colab": {
          "base_uri": "https://localhost:8080/",
          "height": 55
        }
      },
      "source": [
        "motdepasse1decrypt = pow(réponse1,d,n)\n",
        "motdepasse2decrypt = pow(réponse2,d,n)\n",
        "if motdepasse1decrypt == motdepasse1:\n",
        "  print(\"Bravo! La communication avec le professeur est un succès!\")\n",
        "  print(\"Le mot de passe pour le fichier excel est \" + str(motdepasse1decrypt+motdepasse2decrypt))\n",
        "else:\n",
        "  print(\"Oups! Il y a un problème!!!\")"
      ],
      "execution_count": 22,
      "outputs": [
        {
          "output_type": "stream",
          "text": [
            "Bravo! La communication avec le professeur est un succès!\n",
            "Le mot de passe pour le fichier excel est 4807385352928094\n"
          ],
          "name": "stdout"
        }
      ]
    },
    {
      "cell_type": "markdown",
      "metadata": {
        "id": "YiLNF2zkm6dh",
        "colab_type": "text"
      },
      "source": [
        "#Partie 4 - Cassez des chiffrements non sécuritaires"
      ]
    },
    {
      "cell_type": "markdown",
      "metadata": {
        "id": "Zadzryqk95ch",
        "colab_type": "text"
      },
      "source": [
        "Frédérick Tremblay"
      ]
    },
    {
      "cell_type": "markdown",
      "metadata": {
        "id": "yxg5k7kZ_f2u",
        "colab_type": "text"
      },
      "source": [
        "http://factordb.com/index.php?query=1946219450029727305528467481133401080884669303536583253870165128633895994079"
      ]
    },
    {
      "cell_type": "code",
      "metadata": {
        "id": "1adHp9Z9-C8x",
        "colab_type": "code",
        "colab": {}
      },
      "source": [
        "pFred = 43211372987236592930764097455641702499\n",
        "qFred = 45039518892505105527566808239255758421"
      ],
      "execution_count": 0,
      "outputs": []
    },
    {
      "cell_type": "code",
      "metadata": {
        "id": "nXIfXMiS-MO-",
        "colab_type": "code",
        "outputId": "e08fa037-b994-4a7f-a4cb-7fba52c7db34",
        "colab": {
          "base_uri": "https://localhost:8080/",
          "height": 36
        }
      },
      "source": [
        "dFred = gmpy.invert(1796084186372813206090475298723266287455045067906590948531414037682113743241, ((pFred-1)*(qFred-1)))\n",
        "print(\"La valeur de dFred est de \" + str(dFred))"
      ],
      "execution_count": 24,
      "outputs": [
        {
          "output_type": "stream",
          "text": [
            "La valeur de dFred est de 341075516023525036221949943295743745810285816753751995971214096161012729641\n"
          ],
          "name": "stdout"
        }
      ]
    },
    {
      "cell_type": "code",
      "metadata": {
        "id": "UQBeyEe4OX3Y",
        "colab_type": "code",
        "outputId": "4c0f0887-8402-40ee-97d8-a8193cc03dac",
        "colab": {
          "base_uri": "https://localhost:8080/",
          "height": 36
        }
      },
      "source": [
        "print(\"Le mot de passe pour le fichier excel de Frédérick Tremblay est \" + str(pow(433337707211692324270238464939151457391354508410984156503053473071409884951,dFred,1946219450029727305528467481133401080884669303536583253870165128633895994079)+pow(1522877437970809425220956525211943397868554585824700723697727828388712607915,dFred,1946219450029727305528467481133401080884669303536583253870165128633895994079)))"
      ],
      "execution_count": 25,
      "outputs": [
        {
          "output_type": "stream",
          "text": [
            "Le mot de passe pour le fichier excel de Frédérick Tremblay est 6664003501691818\n"
          ],
          "name": "stdout"
        }
      ]
    },
    {
      "cell_type": "code",
      "metadata": {
        "id": "c8Dro4HuOCVY",
        "colab_type": "code",
        "outputId": "22821a25-57a0-4f79-c559-0e00e9a6e180",
        "colab": {
          "base_uri": "https://localhost:8080/",
          "height": 36
        }
      },
      "source": [
        "pFlores = 2908549666406849761129935646122400090842199797759353299972575255377280125858179\n",
        "qFlores = 7\n",
        "eFlores = 2126673151309754512530597021675489538239692704583741392696428474552217651266458811706101375769931396010501464689735545431285892269473676927672305560060996797579\n",
        "rep1 = 8612792753674300706899852018007609138327806141056210479165431736638697575411557\n",
        "rep2 = 1583476282824346310162890440254991243688743480771405388962282279727439192097790\n",
        "nFlores = 20359847664847948327909549522856800635895398584315473099808026787640960881007253\n",
        "dFlores = 9525985333341484827549838350672845378633489010899410308744107873282150342948363\n",
        "\n",
        "print(\"Le mot de passe pour le fichier excel de Frédérick Tremblay est \" + str(pow(rep1,dFlores,nFlores)+pow(rep2,dFlores,nFlores)))"
      ],
      "execution_count": 26,
      "outputs": [
        {
          "output_type": "stream",
          "text": [
            "Le mot de passe pour le fichier excel de Frédérick Tremblay est 20726497312726730092815037086773860785339369293061543662166340774080213856635982\n"
          ],
          "name": "stdout"
        }
      ]
    },
    {
      "cell_type": "markdown",
      "metadata": {
        "id": "hIQwBeTjj63W",
        "colab_type": "text"
      },
      "source": [
        "#Fun time! Cracker le prof!!!"
      ]
    },
    {
      "cell_type": "markdown",
      "metadata": {
        "id": "lggiM1EBkKFy",
        "colab_type": "text"
      },
      "source": [
        "On sait que:\n",
        "<br>$motdepasse1 = pow(motdepasse1code, dDaniel, nDaniel)$\n",
        "<br>donc:\n",
        "<br>$dDaniel = \\frac{log(nDaniel \\times quotient + motdepasse1)}{log(motdepasse1code)}$\n",
        "\n",
        "\n",
        "\n",
        "\n"
      ]
    },
    {
      "cell_type": "code",
      "metadata": {
        "id": "fP1H3uOIz6yi",
        "colab_type": "code",
        "outputId": "0443143a-d21c-4781-d846-676edcb2a04e",
        "colab": {
          "base_uri": "https://localhost:8080/",
          "height": 36
        }
      },
      "source": [
        "nModer = gmpy.invert(gmpy.invert(nDaniel, motdepasse1), motdepasse1)\n",
        "print(nModer)"
      ],
      "execution_count": 27,
      "outputs": [
        {
          "output_type": "stream",
          "text": [
            "150095586242817\n"
          ],
          "name": "stdout"
        }
      ]
    },
    {
      "cell_type": "code",
      "metadata": {
        "id": "pOHOCHkW0EHE",
        "colab_type": "code",
        "outputId": "9075b1e3-c4ad-4f59-8ca5-0f6d8f204b44",
        "colab": {
          "base_uri": "https://localhost:8080/",
          "height": 228
        }
      },
      "source": [
        "!pip install gmpy2\n",
        "import gmpy2\n",
        "#dDaniel = gmpy2.log10(nDaniel*quotient+motdepasse1)/gmpy2.log10(motdepasse1code)\n",
        "gmpy2.log10(motdepasse1code)\n",
        "#print(dDaniel)"
      ],
      "execution_count": 28,
      "outputs": [
        {
          "output_type": "stream",
          "text": [
            "Collecting gmpy2\n",
            "\u001b[?25l  Downloading https://files.pythonhosted.org/packages/90/f4/9a2e384b325b69bc5827b9a6510a8fb4a51698c915c06a3f25a86458892a/gmpy2-2.0.8.zip (280kB)\n",
            "\r\u001b[K     |█▏                              | 10kB 20.2MB/s eta 0:00:01\r\u001b[K     |██▍                             | 20kB 6.8MB/s eta 0:00:01\r\u001b[K     |███▌                            | 30kB 9.6MB/s eta 0:00:01\r\u001b[K     |████▊                           | 40kB 6.0MB/s eta 0:00:01\r\u001b[K     |█████▉                          | 51kB 7.3MB/s eta 0:00:01\r\u001b[K     |███████                         | 61kB 8.6MB/s eta 0:00:01\r\u001b[K     |████████▏                       | 71kB 9.8MB/s eta 0:00:01\r\u001b[K     |█████████▍                      | 81kB 11.0MB/s eta 0:00:01\r\u001b[K     |██████████▌                     | 92kB 12.2MB/s eta 0:00:01\r\u001b[K     |███████████▊                    | 102kB 9.7MB/s eta 0:00:01\r\u001b[K     |████████████▉                   | 112kB 9.7MB/s eta 0:00:01\r\u001b[K     |██████████████                  | 122kB 9.7MB/s eta 0:00:01\r\u001b[K     |███████████████▏                | 133kB 9.7MB/s eta 0:00:01\r\u001b[K     |████████████████▍               | 143kB 9.7MB/s eta 0:00:01\r\u001b[K     |█████████████████▌              | 153kB 9.7MB/s eta 0:00:01\r\u001b[K     |██████████████████▊             | 163kB 9.7MB/s eta 0:00:01\r\u001b[K     |███████████████████▉            | 174kB 9.7MB/s eta 0:00:01\r\u001b[K     |█████████████████████           | 184kB 9.7MB/s eta 0:00:01\r\u001b[K     |██████████████████████▏         | 194kB 9.7MB/s eta 0:00:01\r\u001b[K     |███████████████████████▍        | 204kB 9.7MB/s eta 0:00:01\r\u001b[K     |████████████████████████▌       | 215kB 9.7MB/s eta 0:00:01\r\u001b[K     |█████████████████████████▊      | 225kB 9.7MB/s eta 0:00:01\r\u001b[K     |██████████████████████████▉     | 235kB 9.7MB/s eta 0:00:01\r\u001b[K     |████████████████████████████    | 245kB 9.7MB/s eta 0:00:01\r\u001b[K     |█████████████████████████████▏  | 256kB 9.7MB/s eta 0:00:01\r\u001b[K     |██████████████████████████████▍ | 266kB 9.7MB/s eta 0:00:01\r\u001b[K     |███████████████████████████████▌| 276kB 9.7MB/s eta 0:00:01\r\u001b[K     |████████████████████████████████| 286kB 9.7MB/s \n",
            "\u001b[?25hBuilding wheels for collected packages: gmpy2\n",
            "  Building wheel for gmpy2 (setup.py) ... \u001b[?25l\u001b[?25hdone\n",
            "  Created wheel for gmpy2: filename=gmpy2-2.0.8-cp36-cp36m-linux_x86_64.whl size=456926 sha256=5b2ebea78ab22fd9e1f03f95b1b718fb2cdd946b75fdf68782dc85efe644ed15\n",
            "  Stored in directory: /root/.cache/pip/wheels/33/5a/45/b4f58933bc61064f49669220932d1d5bcc0b2a1f762f25ac0e\n",
            "Successfully built gmpy2\n",
            "Installing collected packages: gmpy2\n",
            "Successfully installed gmpy2-2.0.8\n"
          ],
          "name": "stdout"
        },
        {
          "output_type": "execute_result",
          "data": {
            "text/plain": [
              "mpfr('158.85906728093502')"
            ]
          },
          "metadata": {
            "tags": []
          },
          "execution_count": 28
        }
      ]
    },
    {
      "cell_type": "code",
      "metadata": {
        "id": "VW4BccB442p0",
        "colab_type": "code",
        "outputId": "5e5cf58d-20be-44b7-ddb5-f372dd92605a",
        "colab": {
          "base_uri": "https://localhost:8080/",
          "height": 36
        }
      },
      "source": [
        "m = motdepasse1\n",
        "n = n\n",
        "print(gmpy2.gcd(m,n))"
      ],
      "execution_count": 29,
      "outputs": [
        {
          "output_type": "stream",
          "text": [
            "1\n"
          ],
          "name": "stdout"
        }
      ]
    },
    {
      "cell_type": "code",
      "metadata": {
        "id": "ZdUV7dui5g7t",
        "colab_type": "code",
        "colab": {
          "base_uri": "https://localhost:8080/",
          "height": 198
        },
        "outputId": "b107d1a9-1b8f-4a62-de9c-509564861beb"
      },
      "source": [
        "dDaniel = gmpy.invert(eDaniel, (p-1)*(((p+nDaniel-1)/(p-1))-1))\n",
        "dDaniel = gmpy2.log10(nDaniel*quotient+motdepasse1)/gmpy2.log10(motdepasse1code)"
      ],
      "execution_count": 31,
      "outputs": [
        {
          "output_type": "error",
          "ename": "TypeError",
          "evalue": "ignored",
          "traceback": [
            "\u001b[0;31m---------------------------------------------------------------------------\u001b[0m",
            "\u001b[0;31mTypeError\u001b[0m                                 Traceback (most recent call last)",
            "\u001b[0;32m<ipython-input-31-8101e7838447>\u001b[0m in \u001b[0;36m<module>\u001b[0;34m()\u001b[0m\n\u001b[0;32m----> 1\u001b[0;31m \u001b[0mdDaniel\u001b[0m \u001b[0;34m=\u001b[0m \u001b[0mgmpy\u001b[0m\u001b[0;34m.\u001b[0m\u001b[0minvert\u001b[0m\u001b[0;34m(\u001b[0m\u001b[0meDaniel\u001b[0m\u001b[0;34m,\u001b[0m \u001b[0;34m(\u001b[0m\u001b[0mp\u001b[0m\u001b[0;34m-\u001b[0m\u001b[0;36m1\u001b[0m\u001b[0;34m)\u001b[0m\u001b[0;34m*\u001b[0m\u001b[0;34m(\u001b[0m\u001b[0;34m(\u001b[0m\u001b[0;34m(\u001b[0m\u001b[0mp\u001b[0m\u001b[0;34m+\u001b[0m\u001b[0mnDaniel\u001b[0m\u001b[0;34m-\u001b[0m\u001b[0;36m1\u001b[0m\u001b[0;34m)\u001b[0m\u001b[0;34m/\u001b[0m\u001b[0;34m(\u001b[0m\u001b[0mp\u001b[0m\u001b[0;34m-\u001b[0m\u001b[0;36m1\u001b[0m\u001b[0;34m)\u001b[0m\u001b[0;34m)\u001b[0m\u001b[0;34m-\u001b[0m\u001b[0;36m1\u001b[0m\u001b[0;34m)\u001b[0m\u001b[0;34m)\u001b[0m\u001b[0;34m\u001b[0m\u001b[0;34m\u001b[0m\u001b[0m\n\u001b[0m\u001b[1;32m      2\u001b[0m \u001b[0mdDaniel\u001b[0m \u001b[0;34m=\u001b[0m \u001b[0mgmpy2\u001b[0m\u001b[0;34m.\u001b[0m\u001b[0mlog10\u001b[0m\u001b[0;34m(\u001b[0m\u001b[0mnDaniel\u001b[0m\u001b[0;34m*\u001b[0m\u001b[0mquotient\u001b[0m\u001b[0;34m+\u001b[0m\u001b[0mmotdepasse1\u001b[0m\u001b[0;34m)\u001b[0m\u001b[0;34m/\u001b[0m\u001b[0mgmpy2\u001b[0m\u001b[0;34m.\u001b[0m\u001b[0mlog10\u001b[0m\u001b[0;34m(\u001b[0m\u001b[0mmotdepasse1code\u001b[0m\u001b[0;34m)\u001b[0m\u001b[0;34m\u001b[0m\u001b[0;34m\u001b[0m\u001b[0m\n",
            "\u001b[0;31mTypeError\u001b[0m: invert() expects 'mpz','mpz' arguments"
          ]
        }
      ]
    },
    {
      "cell_type": "code",
      "metadata": {
        "id": "-9S29evKAEh_",
        "colab_type": "code",
        "outputId": "deebfb9e-fa8a-4337-be8e-605c37b83f2b",
        "colab": {
          "base_uri": "https://localhost:8080/",
          "height": 113
        }
      },
      "source": [
        "!git clone https://github.com/zweisamkeit/RSHack.git"
      ],
      "execution_count": 32,
      "outputs": [
        {
          "output_type": "stream",
          "text": [
            "Cloning into 'RSHack'...\n",
            "remote: Enumerating objects: 425, done.\u001b[K\n",
            "remote: Total 425 (delta 0), reused 0 (delta 0), pack-reused 425\u001b[K\n",
            "Receiving objects: 100% (425/425), 69.07 KiB | 760.00 KiB/s, done.\n",
            "Resolving deltas: 100% (204/204), done.\n"
          ],
          "name": "stdout"
        }
      ]
    },
    {
      "cell_type": "code",
      "metadata": {
        "id": "8x28ip-SAyq3",
        "colab_type": "code",
        "outputId": "7e9c6076-5f74-415b-d2e4-6274ca864a98",
        "colab": {
          "base_uri": "https://localhost:8080/",
          "height": 268
        }
      },
      "source": [
        "!pip install pycrypto\n",
        "!pip install rsa"
      ],
      "execution_count": 33,
      "outputs": [
        {
          "output_type": "stream",
          "text": [
            "Collecting pycrypto\n",
            "\u001b[?25l  Downloading https://files.pythonhosted.org/packages/60/db/645aa9af249f059cc3a368b118de33889219e0362141e75d4eaf6f80f163/pycrypto-2.6.1.tar.gz (446kB)\n",
            "\r\u001b[K     |▊                               | 10kB 18.0MB/s eta 0:00:01\r\u001b[K     |█▌                              | 20kB 6.4MB/s eta 0:00:01\r\u001b[K     |██▏                             | 30kB 9.0MB/s eta 0:00:01\r\u001b[K     |███                             | 40kB 5.7MB/s eta 0:00:01\r\u001b[K     |███▊                            | 51kB 6.9MB/s eta 0:00:01\r\u001b[K     |████▍                           | 61kB 8.2MB/s eta 0:00:01\r\u001b[K     |█████▏                          | 71kB 9.3MB/s eta 0:00:01\r\u001b[K     |█████▉                          | 81kB 10.4MB/s eta 0:00:01\r\u001b[K     |██████▋                         | 92kB 11.4MB/s eta 0:00:01\r\u001b[K     |███████▍                        | 102kB 9.3MB/s eta 0:00:01\r\u001b[K     |████████                        | 112kB 9.3MB/s eta 0:00:01\r\u001b[K     |████████▉                       | 122kB 9.3MB/s eta 0:00:01\r\u001b[K     |█████████▌                      | 133kB 9.3MB/s eta 0:00:01\r\u001b[K     |██████████▎                     | 143kB 9.3MB/s eta 0:00:01\r\u001b[K     |███████████                     | 153kB 9.3MB/s eta 0:00:01\r\u001b[K     |███████████▊                    | 163kB 9.3MB/s eta 0:00:01\r\u001b[K     |████████████▌                   | 174kB 9.3MB/s eta 0:00:01\r\u001b[K     |█████████████▏                  | 184kB 9.3MB/s eta 0:00:01\r\u001b[K     |██████████████                  | 194kB 9.3MB/s eta 0:00:01\r\u001b[K     |██████████████▊                 | 204kB 9.3MB/s eta 0:00:01\r\u001b[K     |███████████████▍                | 215kB 9.3MB/s eta 0:00:01\r\u001b[K     |████████████████▏               | 225kB 9.3MB/s eta 0:00:01\r\u001b[K     |█████████████████               | 235kB 9.3MB/s eta 0:00:01\r\u001b[K     |█████████████████▋              | 245kB 9.3MB/s eta 0:00:01\r\u001b[K     |██████████████████▍             | 256kB 9.3MB/s eta 0:00:01\r\u001b[K     |███████████████████             | 266kB 9.3MB/s eta 0:00:01\r\u001b[K     |███████████████████▉            | 276kB 9.3MB/s eta 0:00:01\r\u001b[K     |████████████████████▋           | 286kB 9.3MB/s eta 0:00:01\r\u001b[K     |█████████████████████▎          | 296kB 9.3MB/s eta 0:00:01\r\u001b[K     |██████████████████████          | 307kB 9.3MB/s eta 0:00:01\r\u001b[K     |██████████████████████▊         | 317kB 9.3MB/s eta 0:00:01\r\u001b[K     |███████████████████████▌        | 327kB 9.3MB/s eta 0:00:01\r\u001b[K     |████████████████████████▎       | 337kB 9.3MB/s eta 0:00:01\r\u001b[K     |█████████████████████████       | 348kB 9.3MB/s eta 0:00:01\r\u001b[K     |█████████████████████████▊      | 358kB 9.3MB/s eta 0:00:01\r\u001b[K     |██████████████████████████▍     | 368kB 9.3MB/s eta 0:00:01\r\u001b[K     |███████████████████████████▏    | 378kB 9.3MB/s eta 0:00:01\r\u001b[K     |████████████████████████████    | 389kB 9.3MB/s eta 0:00:01\r\u001b[K     |████████████████████████████▋   | 399kB 9.3MB/s eta 0:00:01\r\u001b[K     |█████████████████████████████▍  | 409kB 9.3MB/s eta 0:00:01\r\u001b[K     |██████████████████████████████  | 419kB 9.3MB/s eta 0:00:01\r\u001b[K     |██████████████████████████████▉ | 430kB 9.3MB/s eta 0:00:01\r\u001b[K     |███████████████████████████████▋| 440kB 9.3MB/s eta 0:00:01\r\u001b[K     |████████████████████████████████| 450kB 9.3MB/s \n",
            "\u001b[?25hBuilding wheels for collected packages: pycrypto\n",
            "  Building wheel for pycrypto (setup.py) ... \u001b[?25l\u001b[?25hdone\n",
            "  Created wheel for pycrypto: filename=pycrypto-2.6.1-cp36-cp36m-linux_x86_64.whl size=531538 sha256=9b670c2c471270571a8f9c82e8356c3af2f1e69c929a2f4bc39a0cf988000355\n",
            "  Stored in directory: /root/.cache/pip/wheels/27/02/5e/77a69d0c16bb63c6ed32f5386f33a2809c94bd5414a2f6c196\n",
            "Successfully built pycrypto\n",
            "Installing collected packages: pycrypto\n",
            "Successfully installed pycrypto-2.6.1\n",
            "Requirement already satisfied: rsa in /usr/local/lib/python3.6/dist-packages (4.0)\n",
            "Requirement already satisfied: pyasn1>=0.1.3 in /usr/local/lib/python3.6/dist-packages (from rsa) (0.4.7)\n"
          ],
          "name": "stdout"
        }
      ]
    },
    {
      "cell_type": "markdown",
      "metadata": {
        "id": "KRE1TKHSB2Hc",
        "colab_type": "text"
      },
      "source": [
        "\n"
      ]
    },
    {
      "cell_type": "code",
      "metadata": {
        "id": "OKTvz7K7AGbk",
        "colab_type": "code",
        "outputId": "9a031528-0db9-44cf-db14-723e347daad9",
        "colab": {
          "base_uri": "https://localhost:8080/",
          "height": 807
        }
      },
      "source": [
        "!python3 RSHack/rshack.py"
      ],
      "execution_count": 0,
      "outputs": [
        {
          "output_type": "stream",
          "text": [
            "\u001b[H\u001b[2J\n",
            "\n",
            "\t\t#########################\n",
            "\t\t#      RSHack v2.1      #\n",
            "\t\t#      Zweisamkeit      #\n",
            "\t\t#      GNU GPL v3       #\n",
            "\t\t#########################\n",
            "\n",
            "\n",
            "\n",
            "\tList of the available attacks:\n",
            "\n",
            "\t\t1. Wiener Attack\n",
            "\t\t2. Hastad Attack\n",
            "\t\t3. Fermat Attack\n",
            "\t\t4. Bleichenbacher Attack\n",
            "\t\t5. Common Modulus Attack\n",
            "\t\t6. Chosen Plaintext Attack\n",
            "\n",
            "\tList of the available tools:\n",
            "\n",
            "\t\ta. RSA Public Key parameters extraction\n",
            "\t\tb. RSA Private Key parameters extraction\n",
            "\t\tc. RSA Private Key construction (PEM)\n",
            "\t\td. RSA Public Key construction (PEM)\n",
            "\t\te. RSA Ciphertext Decipher\n",
            "\t\tf. RSA Ciphertext Encipher\n",
            "\n",
            "\t[*] What attack or tool do you want to carry out? 5\n",
            "\n",
            "\t\t\t ***** Common Modulus Attack *****\n",
            "\n",
            "\t\t[*] Arguments [-h] -n common modulus -e1 first exponent -e2 second exponent -c1 first cipher -c2 second cipher:\n",
            "\n",
            "64043455893836733879955 \n",
            "Traceback (most recent call last):\n",
            "  File \"RSHack/rshack.py\", line 347, in <module>\n",
            "    choose(\"first\")\n",
            "  File \"RSHack/rshack.py\", line 169, in choose\n",
            "    attack_object.comod()\n",
            "  File \"/content/RSHack/attacks.py\", line 57, in comod\n",
            "    from comod import Comod\n",
            "ModuleNotFoundError: No module named 'comod'\n"
          ],
          "name": "stdout"
        }
      ]
    },
    {
      "cell_type": "code",
      "metadata": {
        "id": "SpB61X8PBdaJ",
        "colab_type": "code",
        "colab": {}
      },
      "source": [
        "x = gmpy.sqrt(n)\n",
        "while True:\n",
        "  if motdepasse1 == pow(motdepasse1code, x, nDaniel):\n",
        "    print(x)\n",
        "    break\n",
        "  x += 1"
      ],
      "execution_count": 0,
      "outputs": []
    }
  ]
}