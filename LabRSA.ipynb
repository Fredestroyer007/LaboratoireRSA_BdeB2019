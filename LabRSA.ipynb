{
  "nbformat": 4,
  "nbformat_minor": 0,
  "metadata": {
    "colab": {
      "name": "LabRSA.ipynb",
      "provenance": [],
      "include_colab_link": true
    },
    "kernelspec": {
      "name": "python3",
      "display_name": "Python 3"
    }
  },
  "cells": [
    {
      "cell_type": "markdown",
      "metadata": {
        "id": "view-in-github",
        "colab_type": "text"
      },
      "source": [
        "<a href=\"https://colab.research.google.com/github/Fredestroyer007/LaboratoireRSA_BdeB2019/blob/master/LabRSA.ipynb\" target=\"_parent\"><img src=\"https://colab.research.google.com/assets/colab-badge.svg\" alt=\"Open In Colab\"/></a>"
      ]
    },
    {
      "cell_type": "markdown",
      "metadata": {
        "id": "PtfYYBmFmFBK",
        "colab_type": "text"
      },
      "source": [
        "Notebook Colab pour le laboratoire sur l'encryption RSA pour le cours de Mathématiques discrètes au Collège de Bois-de-Boulogne à la session d'automne 2019."
      ]
    },
    {
      "cell_type": "markdown",
      "metadata": {
        "id": "n_eS3YMfSvJt",
        "colab_type": "text"
      },
      "source": [
        "#Partie 1 - Générez les nombres premiers p et q"
      ]
    },
    {
      "cell_type": "markdown",
      "metadata": {
        "id": "1wAiDflsS4kY",
        "colab_type": "text"
      },
      "source": [
        "Générez un nombre aléatoire de 80 chiffres (264 bit) en utilisant une implémentation de Miller-Rabin par [Antoine Prudhomme](https://medium.com/@prudywsh/how-to-generate-big-prime-numbers-miller-rabin-49e6e6af32fb)"
      ]
    },
    {
      "cell_type": "markdown",
      "metadata": {
        "id": "UOBHFKvQldFG",
        "colab_type": "text"
      },
      "source": [
        "Définir la longueur en bits du nombre premier. Veuillez définir la variable longueurDecimale"
      ]
    },
    {
      "cell_type": "code",
      "metadata": {
        "id": "O-3JAp2Tliki",
        "colab_type": "code",
        "outputId": "ee0265af-a298-4b68-8bdb-e46db78fe902",
        "colab": {
          "base_uri": "https://localhost:8080/",
          "height": 36
        }
      },
      "source": [
        "import math\n",
        "longueurDecimale = 80\n",
        "length = math.floor(longueurDecimale * math.log(10, 2))\n",
        "print(\"La longueur en bits de \" + str(longueurDecimale) + \" places décimales est de \" + str(length) + \" bits.\")"
      ],
      "execution_count": 48,
      "outputs": [
        {
          "output_type": "stream",
          "text": [
            "La longueur en bits de 80 places décimales est de 265 bits.\n"
          ],
          "name": "stdout"
        }
      ]
    },
    {
      "cell_type": "markdown",
      "metadata": {
        "id": "-edKXlGUsSpz",
        "colab_type": "text"
      },
      "source": [
        "Importer la librairie random et obtient une valeur de seed à partir du temps actuel"
      ]
    },
    {
      "cell_type": "code",
      "metadata": {
        "id": "AgCySvBLYPlu",
        "colab_type": "code",
        "colab": {}
      },
      "source": [
        "import random\n",
        "from datetime import datetime\n",
        "random.seed(datetime.now())"
      ],
      "execution_count": 0,
      "outputs": []
    },
    {
      "cell_type": "markdown",
      "metadata": {
        "id": "KGeAbrc1b61-",
        "colab_type": "text"
      },
      "source": [
        "\n",
        "Fonction pour vérifier la primalité d'un nombre\n"
      ]
    },
    {
      "cell_type": "code",
      "metadata": {
        "id": "Sd8pNksyYS4P",
        "colab_type": "code",
        "colab": {}
      },
      "source": [
        "def est_prime(n, k=128):\n",
        "    # test si le nombre est impair ou si = 2\n",
        "    if n == 2 or n == 3:\n",
        "        return True\n",
        "    if n <= 1 or n % 2 == 0:\n",
        "        return False\n",
        "    # trouve r et s\n",
        "    s = 0\n",
        "    r = n - 1\n",
        "    while r & 1 == 0:\n",
        "        s += 1\n",
        "        r //= 2\n",
        "    # fait k nombre de tests\n",
        "    for _ in range(k):\n",
        "        a = random.randrange(2, n - 1)\n",
        "        x = pow(a, r, n)\n",
        "        if x != 1 and x != n - 1:\n",
        "            j = 1\n",
        "            while j < s and x != n - 1:\n",
        "                x = pow(x, 2, n)\n",
        "                if x == 1:\n",
        "                    return False\n",
        "                j += 1\n",
        "            if x != n - 1:\n",
        "                return False\n",
        "    return True"
      ],
      "execution_count": 0,
      "outputs": []
    },
    {
      "cell_type": "markdown",
      "metadata": {
        "id": "BLfpLf_EkosV",
        "colab_type": "text"
      },
      "source": [
        "Fonction pour générer un candidat de nombre premier"
      ]
    },
    {
      "cell_type": "code",
      "metadata": {
        "id": "D14lE775YZlz",
        "colab_type": "code",
        "colab": {}
      },
      "source": [
        "def générateur_candidat_prime():\n",
        "    # génére un nombre de bit random\n",
        "    p = random.getrandbits(length)\n",
        "    # applique un masque pour mettre les valeurs de MSB et LSB à 1\n",
        "    p |= (1 << length - 1) | 1\n",
        "    return p"
      ],
      "execution_count": 0,
      "outputs": []
    },
    {
      "cell_type": "markdown",
      "metadata": {
        "id": "jvc9OVmelH9e",
        "colab_type": "text"
      },
      "source": [
        "Fonction pour générer un nombre premier"
      ]
    },
    {
      "cell_type": "code",
      "metadata": {
        "id": "3hqNzAimYel5",
        "colab_type": "code",
        "colab": {}
      },
      "source": [
        "def génère_nombre_premier():\n",
        "    p=4\n",
        "    # continue de généré tant que le tests de primalité Miller-Rabin échoue\n",
        "    while not est_prime(p, 128):\n",
        "      p = générateur_candidat_prime()\n",
        "    return p"
      ],
      "execution_count": 0,
      "outputs": []
    },
    {
      "cell_type": "markdown",
      "metadata": {
        "id": "Nk1K27iXs_mm",
        "colab_type": "text"
      },
      "source": [
        "Génération de p"
      ]
    },
    {
      "cell_type": "code",
      "metadata": {
        "id": "FS97nKv8Ylr5",
        "colab_type": "code",
        "outputId": "8fda281b-5227-48fb-bbcc-87470de95a39",
        "colab": {
          "base_uri": "https://localhost:8080/",
          "height": 55
        }
      },
      "source": [
        "p = génère_nombre_premier()\n",
        "print(\"La valeur de p est de \" + str(p))\n",
        "if len(str(p)) == 80:\n",
        "  print(\"P est bien d'une longueur de \" + str(length) + \" bits.\")\n",
        "else:\n",
        "  print(\"P n'est pas d'une longueur de \" + str(length) + \" bits.\")"
      ],
      "execution_count": 53,
      "outputs": [
        {
          "output_type": "stream",
          "text": [
            "La valeur de p est de 55546418642551072807020195303044920561336416906476724547553023990022570383880893\n",
            "P est bien d'une longueur de 265 bits.\n"
          ],
          "name": "stdout"
        }
      ]
    },
    {
      "cell_type": "markdown",
      "metadata": {
        "id": "KOao-c14tlyN",
        "colab_type": "text"
      },
      "source": [
        "Génération de q"
      ]
    },
    {
      "cell_type": "code",
      "metadata": {
        "id": "idhU0Sarpu3E",
        "colab_type": "code",
        "outputId": "36b7d91e-20d6-4e53-f9ae-0966f01cd2af",
        "colab": {
          "base_uri": "https://localhost:8080/",
          "height": 55
        }
      },
      "source": [
        "q = génère_nombre_premier()\n",
        "print(\"La valeur de q est de \" + str(q))\n",
        "if len(str(q)) == 80:\n",
        "  print(\"Q est bien d'une longueur de \" + str(length) + \" bits.\")\n",
        "else:\n",
        "  print(\"Q n'est pas d'une longueur de \" + str(length) + \" bits.\")"
      ],
      "execution_count": 54,
      "outputs": [
        {
          "output_type": "stream",
          "text": [
            "La valeur de q est de 36931139858066363993014394190273972039414536290917122514745734642959371760087333\n",
            "Q est bien d'une longueur de 265 bits.\n"
          ],
          "name": "stdout"
        }
      ]
    },
    {
      "cell_type": "markdown",
      "metadata": {
        "id": "bxdU4ZjPi6Zj",
        "colab_type": "text"
      },
      "source": [
        "Pour sauver p et q (décommenter)"
      ]
    },
    {
      "cell_type": "code",
      "metadata": {
        "id": "4y66sOn9i9TZ",
        "colab_type": "code",
        "colab": {}
      },
      "source": [
        "# p = 40641960965799573667627009770476498643712597236951323381705620074272237436986399\n",
        "# q = 57461501383966806621865753157846218586483569852002025262632994258909945163909277"
      ],
      "execution_count": 0,
      "outputs": []
    },
    {
      "cell_type": "markdown",
      "metadata": {
        "id": "0oJ-w-rWv8Lv",
        "colab_type": "text"
      },
      "source": [
        "Calcul de n"
      ]
    },
    {
      "cell_type": "code",
      "metadata": {
        "id": "Nz-JNb-ptzDs",
        "colab_type": "code",
        "outputId": "d1122ee0-3d84-4570-8e5e-00ce29ad9a1e",
        "colab": {
          "base_uri": "https://localhost:8080/",
          "height": 56
        }
      },
      "source": [
        "n = p*q\n",
        "print(\"La valeur de n est de \" + str(n))"
      ],
      "execution_count": 55,
      "outputs": [
        {
          "output_type": "stream",
          "text": [
            "La valeur de n est de 2051392555502758461882772351584112820923526404109924447923615060138788562487545215446055057869364783835651322190426089100445132865409846345023635087117150028369\n"
          ],
          "name": "stdout"
        }
      ]
    },
    {
      "cell_type": "markdown",
      "metadata": {
        "id": "kMHyinucwmy4",
        "colab_type": "text"
      },
      "source": [
        "Fonction pour la génération de e. Pour avoir assez de padding, e doit être plus grand que 0.29*n, donc n/3 et il doit être plus petit que (p-1)(q-1). En plus, il doit être premier avec (p-1)(q-1)"
      ]
    },
    {
      "cell_type": "code",
      "metadata": {
        "id": "n7HF1hyWv-PT",
        "colab_type": "code",
        "colab": {}
      },
      "source": [
        "def génère_nombre_premier_e():\n",
        "    e = 4\n",
        "    # continue de généré tant que le tests de primalité Miller-Rabin échoue\n",
        "    while not est_prime(e, 128):\n",
        "      e = random.randrange((n/3), ((p-1)*(q-1)), 1)\n",
        "    return e"
      ],
      "execution_count": 0,
      "outputs": []
    },
    {
      "cell_type": "markdown",
      "metadata": {
        "id": "QkZ6T2Zt5qVu",
        "colab_type": "text"
      },
      "source": [
        "Génération de e"
      ]
    },
    {
      "cell_type": "code",
      "metadata": {
        "id": "ClIi7H0X3HDa",
        "colab_type": "code",
        "outputId": "1ffa2191-f4e1-4319-86a4-c90f3054a80d",
        "colab": {
          "base_uri": "https://localhost:8080/",
          "height": 56
        }
      },
      "source": [
        "e = génère_nombre_premier_e()\n",
        "print(\"La valeur de e est de \" + str(e))"
      ],
      "execution_count": 57,
      "outputs": [
        {
          "output_type": "stream",
          "text": [
            "La valeur de e est de 756949662025638671146114820872278340538855935085479420814945846180428118803169044826312915951162909847503512772990490431018389572720279273202072336388699273069\n"
          ],
          "name": "stdout"
        }
      ]
    },
    {
      "cell_type": "markdown",
      "metadata": {
        "id": "Oi3NxIkajTSU",
        "colab_type": "text"
      },
      "source": [
        "Sauver e (décommenter)"
      ]
    },
    {
      "cell_type": "code",
      "metadata": {
        "id": "B1NnYaxgjVtY",
        "colab_type": "code",
        "colab": {}
      },
      "source": [
        "# e = 1091505844213470849359464539153744555392009792863384420957653334054257339319207686204454240722558907107348153602623675383412516710189172398067723438982053784171"
      ],
      "execution_count": 0,
      "outputs": []
    },
    {
      "cell_type": "markdown",
      "metadata": {
        "id": "LmO33s6Y7t3a",
        "colab_type": "text"
      },
      "source": [
        "Importer GMPY"
      ]
    },
    {
      "cell_type": "code",
      "metadata": {
        "id": "NefPcDtW50sN",
        "colab_type": "code",
        "outputId": "33ca7fcc-35d9-4634-9dc7-b28999180959",
        "colab": {
          "base_uri": "https://localhost:8080/",
          "height": 171
        }
      },
      "source": [
        "!apt-get install libgmp-dev libmpfr-dev libmpc-dev\n",
        "!pip install gmpy\n",
        "import gmpy"
      ],
      "execution_count": 59,
      "outputs": [
        {
          "output_type": "stream",
          "text": [
            "Reading package lists... Done\n",
            "Building dependency tree       \n",
            "Reading state information... Done\n",
            "libgmp-dev is already the newest version (2:6.1.2+dfsg-2).\n",
            "libmpc-dev is already the newest version (1.1.0-1).\n",
            "libmpfr-dev is already the newest version (4.0.1-1).\n",
            "0 upgraded, 0 newly installed, 0 to remove and 28 not upgraded.\n",
            "Requirement already satisfied: gmpy in /usr/local/lib/python3.6/dist-packages (1.17)\n"
          ],
          "name": "stdout"
        }
      ]
    },
    {
      "cell_type": "markdown",
      "metadata": {
        "id": "VphFs0se7wQN",
        "colab_type": "text"
      },
      "source": [
        "Calculer d"
      ]
    },
    {
      "cell_type": "code",
      "metadata": {
        "id": "vTy2Npqf7C45",
        "colab_type": "code",
        "outputId": "6e4d9964-4c45-4bd9-c830-be8838dd67aa",
        "colab": {
          "base_uri": "https://localhost:8080/",
          "height": 56
        }
      },
      "source": [
        "d = gmpy.invert(e, ((p-1)*(q-1)))\n",
        "print(\"La valeur de d est de \" + str(d))"
      ],
      "execution_count": 60,
      "outputs": [
        {
          "output_type": "stream",
          "text": [
            "La valeur de d est de 1183584635594232834615222244759566636954245179837109521294608374477016966882439288674992314156835616857818706600405255499492627158065936047393785785715861061365\n"
          ],
          "name": "stdout"
        }
      ]
    },
    {
      "cell_type": "markdown",
      "metadata": {
        "id": "PchnXX_t8EoS",
        "colab_type": "text"
      },
      "source": [
        "Résumé"
      ]
    },
    {
      "cell_type": "code",
      "metadata": {
        "id": "Msj08OB_77fR",
        "colab_type": "code",
        "outputId": "15698f75-74d4-4c10-a84c-8301e6ccbd0b",
        "colab": {
          "base_uri": "https://localhost:8080/",
          "height": 133
        }
      },
      "source": [
        "print(\"La valeur de p est de \" + str(p))\n",
        "print(\"La valeur de q est de \" + str(q))\n",
        "print(\"La valeur de n est de \" + str(n))\n",
        "print(\"La valeur de e est de \" + str(e))\n",
        "print(\"La valeur de d est de \" + str(d))"
      ],
      "execution_count": 61,
      "outputs": [
        {
          "output_type": "stream",
          "text": [
            "La valeur de p est de 55546418642551072807020195303044920561336416906476724547553023990022570383880893\n",
            "La valeur de q est de 36931139858066363993014394190273972039414536290917122514745734642959371760087333\n",
            "La valeur de n est de 2051392555502758461882772351584112820923526404109924447923615060138788562487545215446055057869364783835651322190426089100445132865409846345023635087117150028369\n",
            "La valeur de e est de 756949662025638671146114820872278340538855935085479420814945846180428118803169044826312915951162909847503512772990490431018389572720279273202072336388699273069\n",
            "La valeur de d est de 1183584635594232834615222244759566636954245179837109521294608374477016966882439288674992314156835616857818706600405255499492627158065936047393785785715861061365\n"
          ],
          "name": "stdout"
        }
      ]
    },
    {
      "cell_type": "markdown",
      "metadata": {
        "id": "G_6djA769QwD",
        "colab_type": "text"
      },
      "source": [
        "#Partie 2 - Chiffrez un message adressé à votre professeur"
      ]
    },
    {
      "cell_type": "markdown",
      "metadata": {
        "id": "tNJK1yFY_hfi",
        "colab_type": "text"
      },
      "source": [
        "Assignation des valeurs du professeur"
      ]
    },
    {
      "cell_type": "code",
      "metadata": {
        "id": "JARTgmx0_X8Y",
        "colab_type": "code",
        "colab": {}
      },
      "source": [
        "nDaniel = 941875107642985537713397989234478756209894071847347045505422763695411697005878446626501981832582375451645878970522357469006766777322171449474239317932678049003\n",
        "eDaniel = 122684623944563567014629102476621268301354767735929461384308114159479590358864213279399243377436692534646191467257250225408651662317109322792327354727159625659"
      ],
      "execution_count": 0,
      "outputs": []
    },
    {
      "cell_type": "markdown",
      "metadata": {
        "id": "Wc4h2pOdAkrO",
        "colab_type": "text"
      },
      "source": [
        "Assignez à la variable motdepasse1 un nombre aléatoire de 15 chiffres"
      ]
    },
    {
      "cell_type": "code",
      "metadata": {
        "id": "b0eopr2rBRoi",
        "colab_type": "code",
        "outputId": "d72b5910-ab2b-4a08-8d0a-f7eb0b108ee9",
        "colab": {
          "base_uri": "https://localhost:8080/",
          "height": 55
        }
      },
      "source": [
        "motdepasse1 = random.getrandbits(math.floor(15 * math.log(10, 2)))\n",
        "print(\"La valeur de motdepasse1 est de \" + str(motdepasse1))\n",
        "if len(str(motdepasse1)) == 15:\n",
        "  print(\"motdepasse1 est bien d'une longueur de \" + str(15) + \".\")\n",
        "else:\n",
        "  print(\"motdepasse1 n'est pas d'une longueur de \" + str(15) + \".\")"
      ],
      "execution_count": 63,
      "outputs": [
        {
          "output_type": "stream",
          "text": [
            "La valeur de motdepasse1 est de 394989887014112\n",
            "motdepasse1 est bien d'une longueur de 15.\n"
          ],
          "name": "stdout"
        }
      ]
    },
    {
      "cell_type": "markdown",
      "metadata": {
        "id": "DTX_wZZZCoyD",
        "colab_type": "text"
      },
      "source": [
        "Encryption de motdepasse1 à motdepasse1code : c = m**e mod n"
      ]
    },
    {
      "cell_type": "code",
      "metadata": {
        "id": "bpvqOw5bORJ-",
        "colab_type": "code",
        "colab": {
          "base_uri": "https://localhost:8080/",
          "height": 56
        },
        "outputId": "beb71a3d-7732-4df9-f307-ae109a2bd526"
      },
      "source": [
        "motdepasse1code = pow(motdepasse1,eDaniel, nDaniel)\n",
        "print(\"La valeur encrypté de motdepasse1, nommé motdepasse1code, est \" + str(motdepasse1code))"
      ],
      "execution_count": 64,
      "outputs": [
        {
          "output_type": "stream",
          "text": [
            "La valeur encrypté de motdepasse1, nommé motdepasse1code, est 799072496362301998175447381985409787854491859961609944127852837348844541503460429016628171879064332592601716452771071585304783025026777984599266626663073658874\n"
          ],
          "name": "stdout"
        }
      ]
    },
    {
      "cell_type": "markdown",
      "metadata": {
        "id": "YH8e2j-rhASJ",
        "colab_type": "text"
      },
      "source": [
        "Encryption de motdepasse1code à signature avec n et d"
      ]
    },
    {
      "cell_type": "code",
      "metadata": {
        "id": "LwJ5QkLpg46m",
        "colab_type": "code",
        "colab": {
          "base_uri": "https://localhost:8080/",
          "height": 56
        },
        "outputId": "5503b393-e37f-4acd-ad14-5c11d3de86b1"
      },
      "source": [
        "signature = pow(motdepasse1code,e,n)\n",
        "print(\"La valeur encrypté de motdepasse1code, nommé signature, est \" + str(signature))"
      ],
      "execution_count": 65,
      "outputs": [
        {
          "output_type": "stream",
          "text": [
            "La valeur encrypté de motdepasse1code, nommé signature, est 145683169258619525582502087885987191669329597644436772148986775879145284758984267713243004184738215141538717687825263611804620387053827086702296930040244672333\n"
          ],
          "name": "stdout"
        }
      ]
    },
    {
      "cell_type": "markdown",
      "metadata": {
        "id": "bWsJTI7QiJkP",
        "colab_type": "text"
      },
      "source": [
        "#Partie 3 - Déchiffrez la réponse donnée par votre professeur"
      ]
    },
    {
      "cell_type": "markdown",
      "metadata": {
        "id": "jzLGXrsUk6lb",
        "colab_type": "text"
      },
      "source": [
        "Remplir avec les réponses du professeur sur le forum"
      ]
    },
    {
      "cell_type": "code",
      "metadata": {
        "id": "OdTRUR3mk2RT",
        "colab_type": "code",
        "colab": {}
      },
      "source": [
        "réponse_1 = 0\n",
        "réponse_2 = 0"
      ],
      "execution_count": 0,
      "outputs": []
    },
    {
      "cell_type": "markdown",
      "metadata": {
        "id": "ZfeSqB1bk_Wy",
        "colab_type": "text"
      },
      "source": [
        "Décryption des messages"
      ]
    },
    {
      "cell_type": "code",
      "metadata": {
        "id": "UWAs_SoUkeDF",
        "colab_type": "code",
        "colab": {}
      },
      "source": [
        "motdepasse1decrypt = pow(réponse_1,d,n)\n",
        "motdepasse2decrypt = pow(réponse_2,d,n)\n",
        "if motdepasse1decrypt == motdepasse1:\n",
        "  print(\"Bravo! La communication avec le professeur est un succès!\")\n",
        "  print(\"Le mot de passe pour le fichier excel est \" + str(motdepasse1decrypt+motdepasse2decrypt))\n",
        "else:\n",
        "  print(\"Ous! Il y a un problème!!!\")"
      ],
      "execution_count": 0,
      "outputs": []
    }
  ]
}