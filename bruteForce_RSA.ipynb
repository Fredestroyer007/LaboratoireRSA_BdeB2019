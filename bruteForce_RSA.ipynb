{
  "nbformat": 4,
  "nbformat_minor": 0,
  "metadata": {
    "colab": {
      "name": "bruteForce_RSA.ipynb",
      "provenance": [],
      "include_colab_link": true
    },
    "kernelspec": {
      "name": "python3",
      "display_name": "Python 3"
    },
    "accelerator": "GPU"
  },
  "cells": [
    {
      "cell_type": "markdown",
      "metadata": {
        "id": "view-in-github",
        "colab_type": "text"
      },
      "source": [
        "<a href=\"https://colab.research.google.com/github/Fredestroyer007/LaboratoireRSA_BdeB2019/blob/master/bruteForce_RSA.ipynb\" target=\"_parent\"><img src=\"https://colab.research.google.com/assets/colab-badge.svg\" alt=\"Open In Colab\"/></a>"
      ]
    },
    {
      "cell_type": "code",
      "metadata": {
        "id": "16n3Z60uCZhE",
        "colab_type": "code",
        "colab": {}
      },
      "source": [
        "nProf = int(8861*7589)"
      ],
      "execution_count": 0,
      "outputs": []
    },
    {
      "cell_type": "code",
      "metadata": {
        "id": "qNVmnjbGCzhF",
        "colab_type": "code",
        "colab": {}
      },
      "source": [
        "import random\n",
        "import math"
      ],
      "execution_count": 0,
      "outputs": []
    },
    {
      "cell_type": "code",
      "metadata": {
        "id": "FSWPLwnMJKKA",
        "colab_type": "code",
        "colab": {}
      },
      "source": [
        "def est_prime(n, k=128):\n",
        "    # test si le nombre est impair ou si = 2\n",
        "    if n == 2 or n == 3:\n",
        "        return True\n",
        "    if n <= 1 or n % 2 == 0:\n",
        "        return False\n",
        "    # trouve r et s\n",
        "    s = 0\n",
        "    r = n - 1\n",
        "    while r & 1 == 0:\n",
        "        s += 1\n",
        "        r //= 2\n",
        "    # fait k nombre de tests\n",
        "    for _ in range(k):\n",
        "        a = random.randrange(2, n - 1)\n",
        "        x = pow(a, r, n)\n",
        "        if x != 1 and x != n - 1:\n",
        "            j = 1\n",
        "            while j < s and x != n - 1:\n",
        "                x = pow(x, 2, n)\n",
        "                if x == 1:\n",
        "                    return False\n",
        "                j += 1\n",
        "            if x != n - 1:\n",
        "                return False\n",
        "    return True"
      ],
      "execution_count": 0,
      "outputs": []
    },
    {
      "cell_type": "code",
      "metadata": {
        "id": "J8kohFGdDEtI",
        "colab_type": "code",
        "colab": {}
      },
      "source": [
        "def finder():\n",
        "  min = int(3) #int('1'.ljust((80),'0'))\n",
        "  max = int(math.floor(math.sqrt(nProf)))\n",
        "\n",
        "  if (max % 2) == 0:\n",
        "    max = max - 1\n",
        "  \n",
        "  cibleP = max\n",
        "  cibleQ = 0\n",
        "  cont = True\n",
        "  compteur = 0\n",
        "\n",
        "  while cibleP > min & cont:\n",
        "    # Si le nombre est premier\n",
        "    if est_prime(cibleP):\n",
        "      cibleQ = nProf/cibleP\n",
        "      if est_prime(cibleQ):\n",
        "        print(\"We got it!!\")\n",
        "        cont = False\n",
        "    else:\n",
        "      cibleP = cibleP - 2\n",
        "      compteur = compteur + 1\n",
        "      print(compteur)"
      ],
      "execution_count": 0,
      "outputs": []
    },
    {
      "cell_type": "code",
      "metadata": {
        "id": "q8JcCnigJ5wH",
        "colab_type": "code",
        "colab": {
          "base_uri": "https://localhost:8080/",
          "height": 415
        },
        "outputId": "d05cc7a9-4ad3-46c2-96e2-fd8809f17c43"
      },
      "source": [
        "finder()"
      ],
      "execution_count": 77,
      "outputs": [
        {
          "output_type": "stream",
          "text": [
            "1\n",
            "2\n",
            "3\n",
            "4\n"
          ],
          "name": "stdout"
        },
        {
          "output_type": "error",
          "ename": "TypeError",
          "evalue": "ignored",
          "traceback": [
            "\u001b[0;31m---------------------------------------------------------------------------\u001b[0m",
            "\u001b[0;31mTypeError\u001b[0m                                 Traceback (most recent call last)",
            "\u001b[0;32m<ipython-input-77-c6010d611181>\u001b[0m in \u001b[0;36m<module>\u001b[0;34m()\u001b[0m\n\u001b[0;32m----> 1\u001b[0;31m \u001b[0mfinder\u001b[0m\u001b[0;34m(\u001b[0m\u001b[0;34m)\u001b[0m\u001b[0;34m\u001b[0m\u001b[0;34m\u001b[0m\u001b[0m\n\u001b[0m",
            "\u001b[0;32m<ipython-input-76-824152630584>\u001b[0m in \u001b[0;36mfinder\u001b[0;34m()\u001b[0m\n\u001b[1;32m     15\u001b[0m     \u001b[0;32mif\u001b[0m \u001b[0mest_prime\u001b[0m\u001b[0;34m(\u001b[0m\u001b[0mcibleP\u001b[0m\u001b[0;34m)\u001b[0m\u001b[0;34m:\u001b[0m\u001b[0;34m\u001b[0m\u001b[0;34m\u001b[0m\u001b[0m\n\u001b[1;32m     16\u001b[0m       \u001b[0mcibleQ\u001b[0m \u001b[0;34m=\u001b[0m \u001b[0mnProf\u001b[0m\u001b[0;34m/\u001b[0m\u001b[0mcibleP\u001b[0m\u001b[0;34m\u001b[0m\u001b[0;34m\u001b[0m\u001b[0m\n\u001b[0;32m---> 17\u001b[0;31m       \u001b[0;32mif\u001b[0m \u001b[0mest_prime\u001b[0m\u001b[0;34m(\u001b[0m\u001b[0mcibleQ\u001b[0m\u001b[0;34m)\u001b[0m\u001b[0;34m:\u001b[0m\u001b[0;34m\u001b[0m\u001b[0;34m\u001b[0m\u001b[0m\n\u001b[0m\u001b[1;32m     18\u001b[0m         \u001b[0mprint\u001b[0m\u001b[0;34m(\u001b[0m\u001b[0;34m\"We got it!!\"\u001b[0m\u001b[0;34m)\u001b[0m\u001b[0;34m\u001b[0m\u001b[0;34m\u001b[0m\u001b[0m\n\u001b[1;32m     19\u001b[0m         \u001b[0mcont\u001b[0m \u001b[0;34m=\u001b[0m \u001b[0;32mFalse\u001b[0m\u001b[0;34m\u001b[0m\u001b[0;34m\u001b[0m\u001b[0m\n",
            "\u001b[0;32m<ipython-input-73-21a9856e890e>\u001b[0m in \u001b[0;36mest_prime\u001b[0;34m(n, k)\u001b[0m\n\u001b[1;32m      8\u001b[0m     \u001b[0ms\u001b[0m \u001b[0;34m=\u001b[0m \u001b[0;36m0\u001b[0m\u001b[0;34m\u001b[0m\u001b[0;34m\u001b[0m\u001b[0m\n\u001b[1;32m      9\u001b[0m     \u001b[0mr\u001b[0m \u001b[0;34m=\u001b[0m \u001b[0mn\u001b[0m \u001b[0;34m-\u001b[0m \u001b[0;36m1\u001b[0m\u001b[0;34m\u001b[0m\u001b[0;34m\u001b[0m\u001b[0m\n\u001b[0;32m---> 10\u001b[0;31m     \u001b[0;32mwhile\u001b[0m \u001b[0mr\u001b[0m \u001b[0;34m&\u001b[0m \u001b[0;36m1\u001b[0m \u001b[0;34m==\u001b[0m \u001b[0;36m0\u001b[0m\u001b[0;34m:\u001b[0m\u001b[0;34m\u001b[0m\u001b[0;34m\u001b[0m\u001b[0m\n\u001b[0m\u001b[1;32m     11\u001b[0m         \u001b[0ms\u001b[0m \u001b[0;34m+=\u001b[0m \u001b[0;36m1\u001b[0m\u001b[0;34m\u001b[0m\u001b[0;34m\u001b[0m\u001b[0m\n\u001b[1;32m     12\u001b[0m         \u001b[0mr\u001b[0m \u001b[0;34m//=\u001b[0m \u001b[0;36m2\u001b[0m\u001b[0;34m\u001b[0m\u001b[0;34m\u001b[0m\u001b[0m\n",
            "\u001b[0;31mTypeError\u001b[0m: unsupported operand type(s) for &: 'float' and 'int'"
          ]
        }
      ]
    },
    {
      "cell_type": "code",
      "metadata": {
        "id": "E6AFaUgZK9Ti",
        "colab_type": "code",
        "colab": {}
      },
      "source": [
        ""
      ],
      "execution_count": 0,
      "outputs": []
    }
  ]
}